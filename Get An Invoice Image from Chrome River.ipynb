{
 "cells": [
  {
   "cell_type": "markdown",
   "metadata": {},
   "source": [
    "# Get an Invoice Image from Chrome River \n",
    "Chrome River provides an api to obtain the images attached to each Invoice Vendor. Obtain your username, password and url from your Chrome River implementation team and substitute in below. Pick a report id from your instance and use this code to get the pdf copy. \n",
    "\n",
    "This simple method could be used in a loop over a number of invoices picked by an auditor. If you store the report id in your system it becomes quite easy to loop over each voucher selected by the auditors and build a single pdf for the auditors' requests.\n",
    "\n",
    "This approach can also be used to import the images at the time they are imported to your financial system."
   ]
  },
  {
   "cell_type": "code",
   "execution_count": null,
   "metadata": {},
   "outputs": [],
   "source": [
    "import os\n",
    "import requests\n",
    "import shutil\n",
    "\n",
    "# I keep these in environment variables to make it easier to \n",
    "# switch back and forth from QA and test as well as not exposing\n",
    "# to the web.\n",
    "api_user = os.environ['CHROME_RIVER_API_USER']\n",
    "api_pass = os.environ['CHROME_RIVER_API_PASS']\n",
    "url = f\"{os.environ['CHROME_RIVER_API_URL']}receipts/doit\"\n",
    "method = 'getInvoiceImages'\n",
    "\n",
    "report_id = '011111111111' # <- use your own report_id\n",
    "\n",
    "data = {'un': api_user,\n",
    "        'pw': api_pass,\n",
    "        'method': method,\n",
    "        'invoiceID': report_id}\n",
    "\n",
    "r = requests.post(url, data=data, stream=True)\n",
    "if r.status_code == 200:\n",
    "    # saves the file as \"invoice_sample_[report_id].pdf\"\n",
    "    with open(f'invoice_sample_{report_id}.pdf', 'wb') as invoice:\n",
    "        r.raw.decode_content = True\n",
    "        shutil.copyfileobj(r.raw, invoice)\n"
   ]
  }
 ],
 "metadata": {
  "kernelspec": {
   "display_name": "Python 3",
   "language": "python",
   "name": "python3"
  },
  "language_info": {
   "codemirror_mode": {
    "name": "ipython",
    "version": 3
   },
   "file_extension": ".py",
   "mimetype": "text/x-python",
   "name": "python",
   "nbconvert_exporter": "python",
   "pygments_lexer": "ipython3",
   "version": "3.7.3"
  }
 },
 "nbformat": 4,
 "nbformat_minor": 2
}
