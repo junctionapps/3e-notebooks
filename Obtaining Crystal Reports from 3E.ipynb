{
 "cells": [
  {
   "cell_type": "markdown",
   "metadata": {},
   "source": [
    "# Obtaining Crystal Report Files From 3E\n",
    "I was asked where in 3E the Crystal Report rpt files were located. As far as I know, they are not stored in the filesystem (FUNC) but are stored base64 encoded in a table. This notebook will show how to extract from the database and saved as file locally.\n",
    "\n",
    "### Connecting to the database\n",
    "For the purposes of this Notebook we'll store the credentials in a `credentials.py` file in the same folder as this one. It'll look like:\n",
    "> ```python\n",
    "elite_db_server = 'dbserver.at.yourdomain'\n",
    "elite_db = 'te_3e_yourinstance'\n",
    "elite_user = 'sql_user_name_you_can_use'\n",
    "elite_pass = 'password_for_that_user'\n",
    "\n",
    "Not the most elequent but will get the job done for this example. See [Interacting with 3E data using SQL](Interacting%20with%20SQL.ipynb) for a way to store credentials in the environment, although arguably not a much better medhod for holding the credentials. Be careful with putting the credentials in a .py file as they may get inadvertantly included in a git repo and land in a public repository somewhere."
   ]
  },
  {
   "cell_type": "code",
   "execution_count": null,
   "metadata": {},
   "outputs": [],
   "source": [
    "import base64\n",
    "import pyodbc\n",
    "\n",
    "from IPython.display import HTML\n",
    "import credentials"
   ]
  },
  {
   "cell_type": "code",
   "execution_count": null,
   "metadata": {},
   "outputs": [],
   "source": [
    "elite_db_server = credentials.elite_db_server\n",
    "elite_db = credentials.elite_db\n",
    "elite_user = credentials.elite_user\n",
    "elite_pass = credentials.elite_pass"
   ]
  },
  {
   "cell_type": "code",
   "execution_count": null,
   "metadata": {},
   "outputs": [],
   "source": [
    "# connection string from a Windows machine\n",
    "conn_str = (f'DRIVER={{ODBC Driver 17 for SQL Server}};SERVER={elite_db_server};'\n",
    "            f'PORT=1433;DATABASE={elite_db};UID={elite_user};'\n",
    "            f'PWD={elite_pass};TDS_Version=8.0;ClientCharset=UTF-8')\n",
    "conn_3e = pyodbc.connect(conn_str)\n",
    "cursor = conn_3e.cursor()"
   ]
  },
  {
   "cell_type": "code",
   "execution_count": null,
   "metadata": {},
   "outputs": [],
   "source": [
    "# sql to get the list of templates of a particular set of types\n",
    "# for this demo, we only want the Crystal Reports\n",
    "templates_sql = \"\"\"\n",
    "select \n",
    " NxPrinterTemplate.DCSTemplateId,\n",
    " NxPrinterTemplate.TemplateCategory,\n",
    " NxPrinterTemplate.Name,\n",
    " NxPrinterTemplate.Description,\n",
    " NxPrinterTemplateType.Name 'Type',\n",
    " max(NxPrinterTemplateVersion.VersionNumber) 'LatestVersion',\n",
    " cast(max(NxPrinterTemplateVersion.CreateDate) as date) 'LastChange'\n",
    "\n",
    "from NxPrinterTemplate \n",
    " join NxPrinterTemplateType on NxPrinterTemplateType.TypeId = NxPrinterTemplate.TemplateType\n",
    " join NxPrinterTemplateVersion on NxPrinterTemplateVersion.Template = NxPrinterTemplate.NxPrinterTemplateID\n",
    "\n",
    "where NxPrinterTemplate.IsActive = 1\n",
    " /* Types: 1-Word Designer; 2-Crystal Reports; 3-Design Gallery; 4-Design Gallery 3.0  */\n",
    " and NxPrinterTemplate.TemplateType in (2)\n",
    "\n",
    "group by\n",
    " NxPrinterTemplate.DCSTemplateId,\n",
    " NxPrinterTemplate.TemplateCategory,\n",
    " NxPrinterTemplate.Name,\n",
    " NxPrinterTemplate.Description,\n",
    " NxPrinterTemplateType.Name\n",
    "\n",
    "order by NxPrinterTemplate.TemplateCategory, NxPrinterTemplateType.Name\n",
    "\"\"\""
   ]
  },
  {
   "cell_type": "code",
   "execution_count": null,
   "metadata": {},
   "outputs": [],
   "source": [
    "templates_results = cursor.execute(templates_sql)"
   ]
  },
  {
   "cell_type": "code",
   "execution_count": null,
   "metadata": {},
   "outputs": [],
   "source": [
    "templates = [{'template_id': template.DCSTemplateId, \n",
    "              'template_category': template.TemplateCategory,\n",
    "              'name': template.Name,\n",
    "              'description': template.Description,\n",
    "              'type': template.Type,\n",
    "              'latest_version': template.LatestVersion,\n",
    "              'last_change': template.LastChange} for template in templates_results]"
   ]
  },
  {
   "cell_type": "code",
   "execution_count": null,
   "metadata": {},
   "outputs": [],
   "source": [
    "# let's take a look at the first few\n",
    "# pretty ugly, but we'll format as an html table for presentation in this notebook\n",
    "templates[:3]"
   ]
  },
  {
   "cell_type": "code",
   "execution_count": null,
   "metadata": {},
   "outputs": [],
   "source": [
    "def list_as_html(template_list):\n",
    "    # function purposely written to convert \n",
    "    # the templates to a pretty list for this notebook\n",
    "    # completely unecessary\n",
    "    html = list()\n",
    "    html.append(\"<table>\")\n",
    "    # header\n",
    "    html.append(\"<tr><th>\")\n",
    "    html.append('</th><th>'.join(template_list[0].keys()))\n",
    "    html.append(\"</th></tr>\")\n",
    "    # body\n",
    "    for t in template_list:\n",
    "        html.append(\"<tr><td>\")\n",
    "        html.append('</td><td>'.join([str(v) for k,v in t.items()]))\n",
    "        html.append(\"</td></tr>\")\n",
    "    # end\n",
    "    html.append(\"</table>\")\n",
    "\n",
    "    return HTML(''.join(html))"
   ]
  },
  {
   "cell_type": "code",
   "execution_count": null,
   "metadata": {},
   "outputs": [],
   "source": [
    "list_as_html(templates)"
   ]
  },
  {
   "cell_type": "markdown",
   "metadata": {},
   "source": [
    "### Extract the template\n",
    "So we should see a list of templates above. By `template_id` pick the one wanted as an .rpt file. You are able to pick any version, but picking the latest is probably the right choice. Take a look at `NxPrinterTemplateVersion` if you want to see other available versions (exercise left up to the reader)."
   ]
  },
  {
   "cell_type": "code",
   "execution_count": null,
   "metadata": {},
   "outputs": [],
   "source": [
    "# picked from the table above\n",
    "extract_template = 311  \n",
    "extract_version = 20"
   ]
  },
  {
   "cell_type": "code",
   "execution_count": null,
   "metadata": {},
   "outputs": [],
   "source": [
    "b64template_sql = \"\"\"\n",
    "select top 1\n",
    "NxPrinterTemplate.Name,\n",
    "NxPrinterTemplateVersion.FileData\n",
    "\n",
    "from NxPrinterTemplate\n",
    "join NxPrinterTemplateVersion on NxPrinterTemplate.NxPrinterTemplateID = NxPrinterTemplateVersion.Template\n",
    "\n",
    "where NxPrinterTemplate.DCSTemplateId = ?\n",
    "and NxPrinterTemplateVersion.VersionNumber = ?\n",
    "\"\"\""
   ]
  },
  {
   "cell_type": "code",
   "execution_count": null,
   "metadata": {},
   "outputs": [],
   "source": [
    "parameters = (extract_template, extract_version)\n",
    "get_b64template = cursor.execute(b64template_sql, parameters)\n",
    "b64template = cursor.fetchone()"
   ]
  },
  {
   "cell_type": "code",
   "execution_count": null,
   "metadata": {},
   "outputs": [],
   "source": [
    "# we create a file named with the name from the 'name' column plus .rpt\n",
    "# which will be saved in the same directory as this notebook\n",
    "\n",
    "if b64template:\n",
    "    with open(f\"{b64template.Name.replace(' ', '')}.rpt\", \"wb\") as rpt_file:\n",
    "       rpt_file.write(base64.decodebytes(b64template.FileData.encode('utf-8')))\n",
    "else:\n",
    "    print(\"Template not found\")\n",
    " "
   ]
  }
 ],
 "metadata": {
  "kernelspec": {
   "display_name": "Python 3",
   "language": "python",
   "name": "python3"
  },
  "language_info": {
   "codemirror_mode": {
    "name": "ipython",
    "version": 3
   },
   "file_extension": ".py",
   "mimetype": "text/x-python",
   "name": "python",
   "nbconvert_exporter": "python",
   "pygments_lexer": "ipython3",
   "version": "3.8.6"
  }
 },
 "nbformat": 4,
 "nbformat_minor": 4
}
